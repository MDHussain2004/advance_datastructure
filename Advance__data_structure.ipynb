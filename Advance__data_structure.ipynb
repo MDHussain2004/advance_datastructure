{
  "nbformat": 4,
  "nbformat_minor": 0,
  "metadata": {
    "colab": {
      "provenance": [],
      "authorship_tag": "ABX9TyN5MOIoFFKhKYOtnfVBN3QM",
      "include_colab_link": true
    },
    "kernelspec": {
      "name": "python3",
      "display_name": "Python 3"
    },
    "language_info": {
      "name": "python"
    }
  },
  "cells": [
    {
      "cell_type": "markdown",
      "metadata": {
        "id": "view-in-github",
        "colab_type": "text"
      },
      "source": [
        "<a href=\"https://colab.research.google.com/github/MDHussain2004/advance_datastructure/blob/main/Advance__data_structure.ipynb\" target=\"_parent\"><img src=\"https://colab.research.google.com/assets/colab-badge.svg\" alt=\"Open In Colab\"/></a>"
      ]
    },
    {
      "cell_type": "code",
      "execution_count": null,
      "metadata": {
        "colab": {
          "base_uri": "https://localhost:8080/"
        },
        "id": "Y6SxHx0ckyu1",
        "outputId": "d311577e-4c54-40c2-e303-e83c110433ec"
      },
      "outputs": [
        {
          "output_type": "stream",
          "name": "stdout",
          "text": [
            "yob a ma I\n"
          ]
        }
      ],
      "source": [
        "# QUESTION 1\n",
        "string=\"I am a boy\"\n",
        "print(string[::-1])"
      ]
    },
    {
      "cell_type": "code",
      "source": [
        "#QUESTION 2\n",
        "string=\"you are the most beautiful girl\"\n",
        "vowels=\"aeiouAEIOU\"\n",
        "count=0\n",
        "for i in string:\n",
        "    if i in vowels:\n",
        "        count+=1\n",
        "print(count)"
      ],
      "metadata": {
        "colab": {
          "base_uri": "https://localhost:8080/"
        },
        "id": "VFixnwkslXiw",
        "outputId": "e2b17141-dfbf-4aec-d4f2-5331a2141818"
      },
      "execution_count": null,
      "outputs": [
        {
          "output_type": "stream",
          "name": "stdout",
          "text": [
            "12\n"
          ]
        }
      ]
    },
    {
      "cell_type": "code",
      "source": [
        "# QUESTION 3\n",
        "line=input(\"Enter the line: \")\n",
        "check=line[::-1]\n",
        "if check==line:\n",
        "  print(\"palindrome\")\n",
        "else:\n",
        "  print(\"not palindrome\")"
      ],
      "metadata": {
        "colab": {
          "base_uri": "https://localhost:8080/"
        },
        "id": "h_BU57BLmXeY",
        "outputId": "b7cc3d9d-9640-4d49-9fa6-487f3b9a5f74"
      },
      "execution_count": null,
      "outputs": [
        {
          "output_type": "stream",
          "name": "stdout",
          "text": [
            "Enter the line: oyo\n",
            "palindrome\n"
          ]
        }
      ]
    },
    {
      "cell_type": "code",
      "source": [
        "# QUESTION 4\n",
        "str1 = \"listen\"\n",
        "str2 = \"silent\"\n",
        "\n",
        "# Convert both strings to lowercase, sort their characters, and compare\n",
        "if sorted(str1) == sorted(str2):\n",
        "    print(f\"'{str1}' and '{str2}' are anagrams\")\n",
        "else:\n",
        "    print(f\"'{str1}' and '{str2}' are not anagrams\")\n",
        "\n"
      ],
      "metadata": {
        "colab": {
          "base_uri": "https://localhost:8080/"
        },
        "id": "6U0xrKYNx-sl",
        "outputId": "7a31f158-1a12-4bf0-8463-6ab58958463b"
      },
      "execution_count": null,
      "outputs": [
        {
          "output_type": "stream",
          "name": "stdout",
          "text": [
            "'listen' and 'silent' are anagrams\n"
          ]
        }
      ]
    },
    {
      "cell_type": "code",
      "source": [
        "#QUESTION 5\n",
        "string = \"This is a test. This test is simple.\"\n",
        "substring = \"is\"\n",
        "start = 0\n",
        "positions = []\n",
        "\n",
        "while True:\n",
        "    start = string.find(substring, start)\n",
        "    if start == -1:\n",
        "        break\n",
        "    positions.append(start)\n",
        "    start += 1  # Move past the last found substring to find the next occurrence\n",
        "\n",
        "print(f\"Occurrences of '{substring}' found at positions: {positions}\")\n"
      ],
      "metadata": {
        "colab": {
          "base_uri": "https://localhost:8080/"
        },
        "id": "fFzsdEW4wX5k",
        "outputId": "564d37f1-99b9-4266-fb98-9e30b551e00a"
      },
      "execution_count": null,
      "outputs": [
        {
          "output_type": "stream",
          "name": "stdout",
          "text": [
            "Occurrences of 'is' found at positions: [2, 5, 18, 26]\n"
          ]
        }
      ]
    },
    {
      "cell_type": "code",
      "source": [
        "#Question 6\n",
        "#Write a code to perform basic string compression using the counts of repeated characters\n",
        "string = \"aaabbccccdaa\"\n",
        "compressed_string = \"\"\n",
        "count = 1\n",
        "\n",
        "for i in range(1, len(string)):\n",
        "    if string[i] == string[i - 1]:\n",
        "        count += 1\n",
        "    else:\n",
        "        compressed_string += string[i - 1] + str(count)\n",
        "        count = 1  # Reset the count for the new character\n",
        "\n",
        "# Add the last character and its count\n",
        "compressed_string += string[-1] + str(count)\n",
        "\n",
        "print(f\"Compressed string: {compressed_string}\")\n"
      ],
      "metadata": {
        "colab": {
          "base_uri": "https://localhost:8080/"
        },
        "id": "o2RZH_Rvyxy7",
        "outputId": "1dc65798-0bff-41cd-ae82-c297ed443d64"
      },
      "execution_count": null,
      "outputs": [
        {
          "output_type": "stream",
          "name": "stdout",
          "text": [
            "Compressed string: a3b2c4d1a2\n"
          ]
        }
      ]
    },
    {
      "cell_type": "code",
      "source": [
        "# QUESTION 7\n",
        "# Write a code to deter mine if a string has all unique characters?\n",
        "string = \"abcdefg\"\n",
        "\n",
        "# Convert the string to a set to eliminate duplicates\n",
        "unique_characters = set(string)\n",
        "\n",
        "# Check if the length of the set is equal to the length of the string\n",
        "if len(unique_characters) == len(string):\n",
        "    print(\"The string has all unique characters.\")\n",
        "else:\n",
        "    print(\"The string does not have all unique characters.\")\n"
      ],
      "metadata": {
        "colab": {
          "base_uri": "https://localhost:8080/"
        },
        "id": "3K8bZESUy4FL",
        "outputId": "3ff12b58-c998-4d59-c331-bfc7dac01018"
      },
      "execution_count": null,
      "outputs": [
        {
          "output_type": "stream",
          "name": "stdout",
          "text": [
            "The string has all unique characters.\n"
          ]
        }
      ]
    },
    {
      "cell_type": "code",
      "source": [
        "# QUESTION 8\n",
        "# Write a code to convert ' given string to uppercase or lowercases\n",
        "string = \"Hello, World!\"\n",
        "uppercase_string = string.upper()\n",
        "lowercase_string = string.lower()\n",
        "\n",
        "print(\"Original string:\", string)\n",
        "print(\"Uppercase string:\", uppercase_string)\n",
        "print(\"Lowercase string:\", lowercase_string)"
      ],
      "metadata": {
        "colab": {
          "base_uri": "https://localhost:8080/"
        },
        "id": "4OLur3anA7EL",
        "outputId": "f9a384e0-e2f2-4c7d-b81b-993262e44ee5"
      },
      "execution_count": null,
      "outputs": [
        {
          "output_type": "stream",
          "name": "stdout",
          "text": [
            "Original string: Hello, World!\n",
            "Uppercase string: HELLO, WORLD!\n",
            "Lowercase string: hello, world!\n"
          ]
        }
      ]
    },
    {
      "cell_type": "code",
      "source": [
        "# QUESTION 9\n",
        "# Write a code to count the number of words in a strings\n",
        "string = \"This is a sample string with multiple words.\"\n",
        "word_count = len(string.split(\" \"))\n",
        "\n",
        "print(\"Number of words in the string:\", word_count)"
      ],
      "metadata": {
        "colab": {
          "base_uri": "https://localhost:8080/"
        },
        "id": "CekwHXN1BEy-",
        "outputId": "4328a4b1-dc6b-4dd6-aeb5-b66e93c9c930"
      },
      "execution_count": null,
      "outputs": [
        {
          "output_type": "stream",
          "name": "stdout",
          "text": [
            "Number of words in the string: 8\n"
          ]
        }
      ]
    },
    {
      "cell_type": "code",
      "source": [
        "len(string)"
      ],
      "metadata": {
        "colab": {
          "base_uri": "https://localhost:8080/"
        },
        "id": "1aN6P9bPBK8t",
        "outputId": "461160db-a320-4f78-f700-b4e5ace4798c"
      },
      "execution_count": null,
      "outputs": [
        {
          "output_type": "execute_result",
          "data": {
            "text/plain": [
              "44"
            ]
          },
          "metadata": {},
          "execution_count": 35
        }
      ]
    },
    {
      "cell_type": "code",
      "source": [
        "# QUESTION 10\n",
        "#Write a code to concatenate two strings without using the + operators\n",
        "string1 = \"Hello\"\n",
        "string2 = \"World\"\n",
        "concatenated_string = \"\"\n",
        "\n",
        "for char in string1:\n",
        "    concatenated_string += char\n",
        "\n",
        "concatenated_string += \" \"\n",
        "\n",
        "for char in string2:\n",
        "    concatenated_string += char\n",
        "print(concatenated_string)\n"
      ],
      "metadata": {
        "colab": {
          "base_uri": "https://localhost:8080/"
        },
        "id": "q-R9Is-bBOFI",
        "outputId": "c80e283a-805c-44b4-be3b-c6579de0f701"
      },
      "execution_count": null,
      "outputs": [
        {
          "output_type": "stream",
          "name": "stdout",
          "text": [
            "Hello World\n"
          ]
        }
      ]
    },
    {
      "cell_type": "code",
      "source": [
        "# QUESTION 11\n",
        "# Write a code  to remove all occurrences of a specific element from a list.\n",
        "# Initial list\n",
        "my_list = [1, 2, 3, 4, 3, 5, 3, 6]\n",
        "# Element to remove\n",
        "element_to_remove = 3\n",
        "\n",
        "# Remove all occurrences of the element\n",
        "my_list = [item for item in my_list if item != element_to_remove]\n",
        "\n",
        "print(f\"Updated list: {my_list}\")\n"
      ],
      "metadata": {
        "colab": {
          "base_uri": "https://localhost:8080/"
        },
        "id": "KSB2Y2zeCpw_",
        "outputId": "2889cde4-b8df-4c32-d05a-2bcb1a39a612"
      },
      "execution_count": null,
      "outputs": [
        {
          "output_type": "stream",
          "name": "stdout",
          "text": [
            "Updated list: [1, 2, 4, 5, 6]\n"
          ]
        }
      ]
    },
    {
      "cell_type": "code",
      "source": [
        "# QUESTION 12\n",
        "#Implement a code to find the second largest number in a given list of integers?\n",
        "int_list = [10, 5, 8, 12,45,23,643,12321,223,23213,432,3423432,232,12345]\n",
        "int_list.sort()\n",
        "print(int_list[-2])"
      ],
      "metadata": {
        "colab": {
          "base_uri": "https://localhost:8080/"
        },
        "id": "pTLA9rtFErzJ",
        "outputId": "ae975067-1ddc-4bc8-8721-15df913c0719"
      },
      "execution_count": null,
      "outputs": [
        {
          "output_type": "stream",
          "name": "stdout",
          "text": [
            "23213\n"
          ]
        }
      ]
    },
    {
      "cell_type": "code",
      "source": [
        "# QUESTION 13\n",
        "# Create a code to count the occurrences of each element in a list and return a dictionary with elements as keys and their count as value\n",
        "list1 = [1, 2, 3, 4, 3, 5, 3, 6,\"pk\",\"jk\",\"pk\"]\n",
        "dict1={}\n",
        "for i in list1:\n",
        "    if i in dict1:\n",
        "        dict1[i]+=1\n",
        "    else:\n",
        "        dict1[i]=1\n",
        "print(dict1)"
      ],
      "metadata": {
        "id": "cNvFquaJEf7P",
        "colab": {
          "base_uri": "https://localhost:8080/"
        },
        "outputId": "7c40b23c-24bd-404b-8d48-079e93e9c81d"
      },
      "execution_count": null,
      "outputs": [
        {
          "output_type": "stream",
          "name": "stdout",
          "text": [
            "{1: 1, 2: 1, 3: 3, 4: 1, 5: 1, 6: 1, 'pk': 2, 'jk': 1}\n"
          ]
        }
      ]
    },
    {
      "cell_type": "code",
      "source": [
        "# QUESTION 14\n",
        "#Write a code to reverse a list in-place without using any built-in reverse functions\n",
        "list1 = [1, 2, 3, 4, 3, 5, 3, 6]\n",
        "reverse_list=list1[::-1]\n",
        "print(f\"reverse list is :{reverse_list}\")"
      ],
      "metadata": {
        "colab": {
          "base_uri": "https://localhost:8080/"
        },
        "id": "ivVeUMIqM89d",
        "outputId": "ee6dc9aa-5149-40e3-c849-a5420258b5a9"
      },
      "execution_count": null,
      "outputs": [
        {
          "output_type": "stream",
          "name": "stdout",
          "text": [
            "reverse list is :[6, 3, 5, 3, 4, 3, 2, 1]\n"
          ]
        }
      ]
    },
    {
      "cell_type": "code",
      "source": [
        "# method 2\n",
        "# Initial list\n",
        "my_list = [1, 2, 3, 4, 3, 5, 3, 6]\n",
        "\n",
        "left=0\n",
        "right=len(my_list) - 1\n",
        "while left<right:\n",
        "  my_list[left],my_list[right]=my_list[right],my_list[left]\n",
        "  left+=1\n",
        "  right-=1\n",
        "print(my_list)\n"
      ],
      "metadata": {
        "colab": {
          "base_uri": "https://localhost:8080/"
        },
        "id": "-Si2AtG2Obxo",
        "outputId": "3f7a88aa-78b9-4187-fd3f-1f4f4d1a7074"
      },
      "execution_count": null,
      "outputs": [
        {
          "output_type": "stream",
          "name": "stdout",
          "text": [
            "[6, 3, 5, 3, 4, 3, 2, 1]\n"
          ]
        }
      ]
    },
    {
      "cell_type": "code",
      "source": [
        "# QUESTION 15\n",
        "# Implement a code to find and remove duplicates from a list while preserving the original order of elements.\n",
        "list3=[12,34,53,53,45653,342,342,42,2424,3453,12,53,345]\n",
        "unique_list=[]\n",
        "for i in list3:\n",
        "  if i in unique_list:\n",
        "    continue\n",
        "  else:\n",
        "    unique_list.append(i)\n",
        "print(unique_list)"
      ],
      "metadata": {
        "colab": {
          "base_uri": "https://localhost:8080/"
        },
        "id": "98t-BVjxSb8E",
        "outputId": "949f0cc4-310e-4fdc-be9e-bbd0f0bbc54c"
      },
      "execution_count": null,
      "outputs": [
        {
          "output_type": "stream",
          "name": "stdout",
          "text": [
            "[12, 34, 53, 45653, 342, 42, 2424, 3453, 345]\n"
          ]
        }
      ]
    },
    {
      "cell_type": "code",
      "source": [
        "#method 2\n",
        "for i in list3:\n",
        "  if i not in unique_list:\n",
        "    unique_list.append(i)\n",
        "print(unique_list)"
      ],
      "metadata": {
        "colab": {
          "base_uri": "https://localhost:8080/"
        },
        "id": "Ai50nZTkUGuy",
        "outputId": "4706c492-3f2e-4807-f5da-13dee6f593d2"
      },
      "execution_count": null,
      "outputs": [
        {
          "output_type": "stream",
          "name": "stdout",
          "text": [
            "[12, 34, 53, 45653, 342, 42, 2424, 3453, 345]\n"
          ]
        }
      ]
    },
    {
      "cell_type": "code",
      "source": [
        "# QUESTION 16\n",
        "# Create a code to check if a given list is sorted (either in ascending or descending order) or not\n",
        "li=[1,12,13,14,15,16,17,18]\n",
        "if li==sorted(li,reverse=True):\n",
        "  print(\"descending\")\n",
        "elif li==sorted(li):\n",
        "  print(\"ascending\")\n",
        "else:\n",
        "  print(\"not sorted\")"
      ],
      "metadata": {
        "colab": {
          "base_uri": "https://localhost:8080/"
        },
        "id": "nzKNbGo_ULHj",
        "outputId": "eed8ea27-ca29-4fa0-bacb-fefe771dc2ce"
      },
      "execution_count": null,
      "outputs": [
        {
          "output_type": "stream",
          "name": "stdout",
          "text": [
            "ascending\n"
          ]
        }
      ]
    },
    {
      "cell_type": "code",
      "source": [
        "# QUESTION 17\n",
        "# Write a code to merge two sorted lists into a single sorted list\n",
        "list1=[1,2,3,4,5,6,5378,235,12,1213,223,7,8,9,10]\n",
        "list2=[11,1222,132,145,156,316,167,138,139,320]\n",
        "list1.sort()\n",
        "list2.sort()\n",
        "new_list=list1+list2\n",
        "new_list.sort()\n",
        "new_list"
      ],
      "metadata": {
        "colab": {
          "base_uri": "https://localhost:8080/"
        },
        "id": "X_d3idmccbJX",
        "outputId": "36d969ee-31f7-40b6-dead-28b1f46b102a"
      },
      "execution_count": null,
      "outputs": [
        {
          "output_type": "execute_result",
          "data": {
            "text/plain": [
              "[1,\n",
              " 2,\n",
              " 3,\n",
              " 4,\n",
              " 5,\n",
              " 6,\n",
              " 7,\n",
              " 8,\n",
              " 9,\n",
              " 10,\n",
              " 11,\n",
              " 12,\n",
              " 132,\n",
              " 138,\n",
              " 139,\n",
              " 145,\n",
              " 156,\n",
              " 167,\n",
              " 223,\n",
              " 235,\n",
              " 316,\n",
              " 320,\n",
              " 1213,\n",
              " 1222,\n",
              " 5378]"
            ]
          },
          "metadata": {},
          "execution_count": 40
        }
      ]
    },
    {
      "cell_type": "code",
      "source": [
        "# QUESTION 18\n",
        "# Implement a code to find the intersection of two given lists\n",
        "list1=[1,3,4,6,5,8,7]\n",
        "list2=[2,5,4,1,9,10]\n",
        "new_list=[]\n",
        "for i in list1:\n",
        "  if i in list2:\n",
        "    new_list.append(i)\n",
        "print(new_list)"
      ],
      "metadata": {
        "colab": {
          "base_uri": "https://localhost:8080/"
        },
        "id": "OsT6cGQacopb",
        "outputId": "68ea7c27-31b9-48cc-8d69-cb89cb7183d2"
      },
      "execution_count": null,
      "outputs": [
        {
          "output_type": "stream",
          "name": "stdout",
          "text": [
            "[1, 4, 5]\n"
          ]
        }
      ]
    },
    {
      "cell_type": "code",
      "source": [
        "# QUESTION 19\n",
        "#Create a code to find the union of two lists without duplicates\n",
        "list1=[1,3,4,6,5,8,7]\n",
        "list2=[2,5,4,1,9,10]\n",
        "new_list=list1+list2\n",
        "new_list=set(new_list)\n",
        "new_list=list(new_list)\n",
        "new_list"
      ],
      "metadata": {
        "colab": {
          "base_uri": "https://localhost:8080/"
        },
        "id": "5u05JaQTczb5",
        "outputId": "2bf171d3-4f8e-4fab-edcd-a7f0ac126f0b"
      },
      "execution_count": null,
      "outputs": [
        {
          "output_type": "execute_result",
          "data": {
            "text/plain": [
              "[1, 2, 3, 4, 5, 6, 7, 8, 9, 10]"
            ]
          },
          "metadata": {},
          "execution_count": 44
        }
      ]
    },
    {
      "cell_type": "code",
      "source": [
        "# QUESTION 20\n",
        "#Write a code to shuffle a given list randomly  without using any built-in shuffle functions\n",
        "import random\n",
        "\n",
        "def shuffle_list(lst):\n",
        "  \"\"\"Shuffles a given list randomly without using built-in shuffle functions.\n",
        "\n",
        "  Args:\n",
        "    lst: The list to be shuffled.\n",
        "\n",
        "  Returns:\n",
        "    The shuffled list.\n",
        "  \"\"\"\n",
        "\n",
        "  for i in range(len(lst)):\n",
        "    j = random.randint(0, i)\n",
        "    lst[i], lst[j] = lst[j], lst[i]\n",
        "\n",
        "  return lst\n",
        "\n",
        "# Example usage:\n",
        "my_list = [1, 2, 3, 4, 5]\n",
        "shuffled_list = shuffle_list(my_list)\n",
        "print(shuffled_list)"
      ],
      "metadata": {
        "colab": {
          "base_uri": "https://localhost:8080/"
        },
        "id": "HtJ2Z67QhMcV",
        "outputId": "976e4b4d-48e0-4b0e-9f80-9402ad5a5840"
      },
      "execution_count": null,
      "outputs": [
        {
          "output_type": "stream",
          "name": "stdout",
          "text": [
            "[5, 3, 2, 4, 1]\n"
          ]
        }
      ]
    },
    {
      "cell_type": "code",
      "source": [],
      "metadata": {
        "id": "mB-GGIdukoRw"
      },
      "execution_count": null,
      "outputs": []
    },
    {
      "cell_type": "code",
      "source": [
        "# QUESTION 21\n",
        "# Write a code that takes two tuples as input and return a new tuple containing elements that are common to both input tuples\n",
        "tuple1=(1,2,3,4,5,6,7,8,9,10)\n",
        "tuple2=(11,12,2,3,13,14,15,16,17,18,19,20)\n",
        "new_tuple=set(tuple1) & set(tuple2)\n",
        "new_tuple=tuple(new_tuple)\n",
        "new_tuple\n"
      ],
      "metadata": {
        "colab": {
          "base_uri": "https://localhost:8080/"
        },
        "id": "56NDITQLimSR",
        "outputId": "20242980-a7d0-4da9-99bc-dc27ff817bcd"
      },
      "execution_count": null,
      "outputs": [
        {
          "output_type": "execute_result",
          "data": {
            "text/plain": [
              "(2, 3)"
            ]
          },
          "metadata": {},
          "execution_count": 50
        }
      ]
    },
    {
      "cell_type": "code",
      "source": [
        "# QUESTION 22\n",
        "#Create a code that prompts the user to enter two sets of integers separated by commas. Then, print the intersection of these two sets\n",
        "set1=set(input(\"Enter the first set of integers separated by commas: \"))\n",
        "set2=set(input(\"Enter the second set of integers separated by commas: \"))\n",
        "intersection=set1 & set2\n",
        "print(intersection)\n"
      ],
      "metadata": {
        "colab": {
          "base_uri": "https://localhost:8080/"
        },
        "id": "52xkPJCylotf",
        "outputId": "f2a7ac1a-1abe-4dfd-d8ec-397f1870e672"
      },
      "execution_count": null,
      "outputs": [
        {
          "output_type": "stream",
          "name": "stdout",
          "text": [
            "Enter the first set of integers separated by commas: 1,2,3,3,4,5,53,23\n",
            "Enter the second set of integers separated by commas: ,1,2,3,4,7,8,4,32\n",
            "{'3', '4', '2', '1', ','}\n"
          ]
        }
      ]
    },
    {
      "cell_type": "code",
      "source": [
        "# QUESTION 23\n",
        "# Write a code to concatenate two tuples. The function should take two tuples as input and return a new tuple containing elements from both input tuples.\n",
        "\n",
        "tuple1 = tuple(map(int, input(\"Enter the first tuple of integers separated by space: \").split()))\n",
        "tuple2 = tuple(map(int, input(\"Enter the second tuple of integers separated by space: \").split()))\n",
        "\n",
        "new_tuple = tuple1 + tuple2\n",
        "\n",
        "print(new_tuple)"
      ],
      "metadata": {
        "colab": {
          "base_uri": "https://localhost:8080/"
        },
        "id": "CCUPG2lAod9g",
        "outputId": "d8c50d39-dc08-43e5-8261-67285429c459"
      },
      "execution_count": null,
      "outputs": [
        {
          "output_type": "stream",
          "name": "stdout",
          "text": [
            "Enter the first tuple of integers separated by commas: 1 2 33 33 23 213 234 23 11 22\n",
            "Enter the second tuple of integers separated by commas: 232 23 242 243  34 32  24 32 \n",
            "(1, 2, 33, 33, 23, 213, 234, 23, 11, 22, 232, 23, 242, 243, 34, 32, 24, 32)\n"
          ]
        }
      ]
    },
    {
      "cell_type": "code",
      "source": [
        "# QUESTION 24\n",
        "# Develop a code that prompts the user to input two sets of strings. Then print the elements that are present in the first set but not in the second set\n",
        "\n",
        "set1 = set(map(int,input(\"Enter the first set of strings separated by commas: \").split(\",\")))\n",
        "set2 = set(map(int,input(\"Enter the second set of strings separated by commas: \").split(\",\")))\n",
        "\n",
        "difference = set1 - set2\n",
        "\n",
        "print(f\"Elements in set1 but not in set2: {difference}\")"
      ],
      "metadata": {
        "colab": {
          "base_uri": "https://localhost:8080/"
        },
        "id": "OKU_KydepsLr",
        "outputId": "1b807691-3152-4006-dccf-a47b617267e3"
      },
      "execution_count": null,
      "outputs": [
        {
          "output_type": "stream",
          "name": "stdout",
          "text": [
            "Enter the first set of strings separated by commas: 12,23,223,3,34,2,24\n",
            "Enter the second set of strings separated by commas: 12,42,42,432,4,2341343343,2\n",
            "Elements in set1 but not in set2: {34, 3, 23, 24, 223}\n"
          ]
        }
      ]
    },
    {
      "cell_type": "code",
      "source": [
        "# QUESTION 25\n",
        "# Create a code that takes a tuple and two integers as input. The function should return s new tuple containing elements from the original tuple within the specified range of indices\n",
        "\n",
        "original_tuple = tuple(map(int, input(\"Enter the first set of strings separated by commas: \").split(\",\")))\n",
        "start_index = int(input(\"Enter the start index: \"))\n",
        "end_index = int(input(\"Enter the end index: \"))\n",
        "\n",
        "def extract_subtuple(original_tuple, start_index, end_index):\n",
        "\n",
        "    return original_tuple[start_index:end_index + 1]\n",
        "\n",
        "\n",
        "new_tuple = extract_subtuple(original_tuple, start_index, end_index)\n",
        "print(\"New tuple:\", new_tuple)"
      ],
      "metadata": {
        "colab": {
          "base_uri": "https://localhost:8080/"
        },
        "id": "dSIEFMmytlYH",
        "outputId": "cc67ecc4-b7cc-417f-bf8c-be52ab1f88cd"
      },
      "execution_count": null,
      "outputs": [
        {
          "output_type": "stream",
          "name": "stdout",
          "text": [
            "Enter the first set of strings separated by commas: 12,223,3,24,234,234,3\n",
            "Enter the start index: 2\n",
            "Enter the end index: 4\n",
            "New tuple: (3, 24, 234)\n"
          ]
        }
      ]
    },
    {
      "cell_type": "code",
      "source": [
        "# QUESTION 26\n",
        "#Write a code that prompts the user to input two sets of characters. Then print the union of these two sets\n",
        "set1 = set(input(\"Enter the first set of characters separated by commas: \").split(\",\"))\n",
        "set2 = set(input(\"Enter the second set of characters separated by commas: \").split(\",\"))\n",
        "union_set=set1.union(set2)\n",
        "print(union_set)"
      ],
      "metadata": {
        "colab": {
          "base_uri": "https://localhost:8080/"
        },
        "id": "3XWJ8KrOwZQv",
        "outputId": "d8f91b95-d632-447c-b863-15a14c0c2339"
      },
      "execution_count": null,
      "outputs": [
        {
          "output_type": "stream",
          "name": "stdout",
          "text": [
            "Enter the first set of characters separated by commas: 1,2,3,4,5\n",
            "Enter the second set of characters separated by commas: 6,7,8,90,0\n",
            "{'5', '3', '8', '7', '0', '90', '4', '6', '2', '1'}\n"
          ]
        }
      ]
    },
    {
      "cell_type": "code",
      "source": [
        "# QUESTION 27\n",
        "# Develop a code that takes a tuple of integers as input. The function should return the maximum and minimum values from the tuple using tuple unpacking\n",
        "def find_max_min(numbers):\n",
        "\n",
        "    max_value = numbers[0]\n",
        "    min_value = numbers[0]\n",
        "\n",
        "    for number in numbers:\n",
        "        if number > max_value:\n",
        "            max_value = number\n",
        "        if number < min_value:\n",
        "            min_value = number\n",
        "\n",
        "    return max_value, min_value\n",
        "\n",
        "# Example usage:\n",
        "numbers = (10, 5, 20, 3, 15)\n",
        "max_num, min_num = find_max_min(numbers)\n",
        "print(\"Maximum value:\", max_num)\n",
        "print(\"Minimum value:\", min_num)"
      ],
      "metadata": {
        "colab": {
          "base_uri": "https://localhost:8080/"
        },
        "id": "yDgwWMi1yXn5",
        "outputId": "3402d616-6bf1-40f2-83c9-d6c1e3230c9b"
      },
      "execution_count": null,
      "outputs": [
        {
          "output_type": "stream",
          "name": "stdout",
          "text": [
            "Maximum value: 20\n",
            "Minimum value: 3\n"
          ]
        }
      ]
    },
    {
      "cell_type": "code",
      "source": [
        "# QUESTION 28\n",
        "# Create a code that defines two sets of integers. Then print the union, intersection and difference of these two sets\n",
        "set1 = {1, 2, 3, 4, 5}\n",
        "set2 = {4, 5, 6, 7, 8}\n",
        "\n",
        "union_set = set1.union(set2)\n",
        "intersection_set = set1.intersection(set2)\n",
        "difference_set = set1.difference(set2)\n",
        "\n",
        "print(\"Union set:\", union_set)\n",
        "print(\"Intersection set:\", intersection_set)\n",
        "print(\"Difference set:\", difference_set)"
      ],
      "metadata": {
        "colab": {
          "base_uri": "https://localhost:8080/"
        },
        "id": "1a6zqUJZ0tw0",
        "outputId": "236e15b7-0f43-4cb2-c870-7e5009df9948"
      },
      "execution_count": null,
      "outputs": [
        {
          "output_type": "stream",
          "name": "stdout",
          "text": [
            "Union set: {1, 2, 3, 4, 5, 6, 7, 8}\n",
            "Intersection set: {4, 5}\n",
            "Difference set: {1, 2, 3}\n"
          ]
        }
      ]
    },
    {
      "cell_type": "code",
      "source": [
        "# QUESTION 29\n",
        "#Write a code that takes a tuple and an element as input. The function should return the count of occurrences of the given element in the tuple\n",
        "tuple1=tuple((input(\"Enter the tuple seperated by commas: \").split(\",\")))\n",
        "element=(input(\"Enter the element: \"))\n",
        "def count_element(tuple1,element):\n",
        "  count=0\n",
        "  for i in tuple1:\n",
        "    if i==element:\n",
        "      count+=1\n",
        "  return count\n",
        "count_element(tuple1,element)"
      ],
      "metadata": {
        "colab": {
          "base_uri": "https://localhost:8080/"
        },
        "id": "LS-PmAWN2J-N",
        "outputId": "31b27a0b-5610-45ee-9bed-01ebd516c99c"
      },
      "execution_count": null,
      "outputs": [
        {
          "name": "stdout",
          "output_type": "stream",
          "text": [
            "Enter the tuple seperated by commas: 1,1,1,1,1,1,2,3,4,5,5,12,23,2,2,1,1,,1,1,1,11,1,1,1,1,1,1\n",
            "Enter the element: 1\n"
          ]
        },
        {
          "output_type": "execute_result",
          "data": {
            "text/plain": [
              "17"
            ]
          },
          "metadata": {},
          "execution_count": 71
        }
      ]
    },
    {
      "cell_type": "code",
      "source": [
        "# QUESTION 30\n",
        "# Develop a code that prompts the user to input two sets of strings. Then print the symmetric difference of these two sets\n",
        "set1 = set(input(\"Enter the first set of strings separated by commas: \").split(\",\"))\n",
        "set2 = set(input(\"Enter the second set of strings separated by commas: \").split(\",\"))\n",
        "symmetric_difference = set1 ^ set2\n",
        "print(symmetric_difference)"
      ],
      "metadata": {
        "colab": {
          "base_uri": "https://localhost:8080/"
        },
        "id": "8-ABJbrU4xrE",
        "outputId": "6162c9bb-db4d-4978-e32d-7b026d49ab4f"
      },
      "execution_count": null,
      "outputs": [
        {
          "output_type": "stream",
          "name": "stdout",
          "text": [
            "Enter the first set of strings separated by commas: 1,2,3,456,123,3311,33,3\n",
            "Enter the second set of strings separated by commas: 1,23,2,3,324,343,44,53\n",
            "{'44', '3311', '23', '53', '456', '343', '123', '324', '33'}\n"
          ]
        }
      ]
    },
    {
      "cell_type": "code",
      "source": [
        "# QUESTION 31\n",
        "# Write a code that takes a list of words as input and returns a dictionary where the keys are unique words and the values are the frequencies of those words in the input list\n",
        "list1=list(str(input(\"Enter the list of words: \")).split(\",\"))\n",
        "dict1={}\n",
        "for i in list1:\n",
        "  if i in dict1:\n",
        "    dict1[i]+=1\n",
        "  else:\n",
        "    dict1[i]=1\n",
        "print(dict1)\n"
      ],
      "metadata": {
        "colab": {
          "base_uri": "https://localhost:8080/"
        },
        "id": "uK8MsFge5z_T",
        "outputId": "2daaf3ab-4fc8-4cff-af21-2b4f6849f9b5"
      },
      "execution_count": null,
      "outputs": [
        {
          "output_type": "stream",
          "name": "stdout",
          "text": [
            "Enter the list of words: pq,qd,s,ewew,wdw,pu,pd,pd,pd,md,dmd,md,md,md,md,mn,mn,mn,mn,mb,mb,mb\n",
            "{'pq': 1, 'qd': 1, 's': 1, 'ewew': 1, 'wdw': 1, 'pu': 1, 'pd': 3, 'md': 5, 'dmd': 1, 'mn': 4, 'mb': 3}\n"
          ]
        }
      ]
    },
    {
      "cell_type": "code",
      "source": [
        "# QUESTION 32\n",
        "# Write a code that takes two dictionaries as input and merges them into a single dictionary. If there are common keys the values should be added together\n",
        "\n",
        "# Function to merge two dictionaries\n",
        "def merge_dicts(dict1, dict2):\n",
        "    merged_dict = dict1.copy()  # Start with the first dictionary\n",
        "\n",
        "    for key, value in dict2.items():  # Iterate over the second dictionary\n",
        "        if key in merged_dict:\n",
        "            merged_dict[key] += value  # Add values if the key is common\n",
        "        else:\n",
        "            merged_dict[key] = value  # Add key-value pair if the key is not present\n",
        "\n",
        "    return merged_dict\n",
        "\n",
        "# Input two dictionaries\n",
        "dict1 = {'a': 10, 'b': 20, 'c': 30}\n",
        "dict2 = {'b': 5, 'c': 15, 'd': 25}\n",
        "\n",
        "# Merge the dictionaries\n",
        "result = merge_dicts(dict1, dict2)\n",
        "\n",
        "# Print the merged dictionary\n",
        "print(result)\n"
      ],
      "metadata": {
        "colab": {
          "base_uri": "https://localhost:8080/"
        },
        "id": "IZeHbNgc8J0T",
        "outputId": "717dec0f-c77d-4d14-f065-a2bfda47a367"
      },
      "execution_count": null,
      "outputs": [
        {
          "output_type": "stream",
          "name": "stdout",
          "text": [
            "{'a': 10, 'b': 25, 'c': 45, 'd': 25}\n"
          ]
        }
      ]
    },
    {
      "cell_type": "code",
      "source": [
        "# QUESTION 33\n",
        "# Write a code to access a value in a nested dictionary. The function should take the dictionary and a list of keys as input and return the corresponding value. If any of the keys do not exist in the dictionary the function should return None\n",
        "\n",
        "# Function to access value in a nested dictionary\n",
        "def access_nested_dict(nested_dict, keys_list):\n",
        "    current_value = nested_dict\n",
        "\n",
        "    # Iterate over the list of keys\n",
        "    for key in keys_list:\n",
        "        if isinstance(current_value, dict) and key in current_value:\n",
        "            current_value = current_value[key]  # Update to the next level in the dictionary\n",
        "        else:\n",
        "            return None  # Return None if the key does not exist\n",
        "\n",
        "    return current_value  # Return the final value after processing all keys\n",
        "\n",
        "# Example dictionary\n",
        "nested_dict = {\n",
        "    'a': {\n",
        "        'b': {\n",
        "            'c': 100\n",
        "        }\n",
        "    },\n",
        "    'x': {\n",
        "        'y': {\n",
        "            'z': 200\n",
        "        }\n",
        "    }\n",
        "}\n",
        "\n",
        "# Example list of keys\n",
        "keys_list = ['a', 'b', 'c']\n",
        "\n",
        "# Access value in the nested dictionary\n",
        "value = access_nested_dict(nested_dict, keys_list)\n",
        "\n",
        "# Print the result\n",
        "print(f\"The value for keys {keys_list} is: {value}\")\n"
      ],
      "metadata": {
        "colab": {
          "base_uri": "https://localhost:8080/"
        },
        "id": "IRe8BdKy9Os5",
        "outputId": "72a0ce59-cba6-4792-dc79-fd5aed09f237"
      },
      "execution_count": null,
      "outputs": [
        {
          "output_type": "stream",
          "name": "stdout",
          "text": [
            "The value for keys ['a', 'b', 'c'] is: 100\n"
          ]
        }
      ]
    },
    {
      "cell_type": "code",
      "source": [
        "# QUESTION 34\n",
        "# Write a code that takes a dictionary as input and returns a sorted version of it based on the values. You can choose whether to sort in ascending or descending order\n",
        "\n",
        "# Function to sort dictionary based on values\n",
        "def sort_dict_by_values(input_dict, ascending=True):\n",
        "    # Sorting the dictionary by values\n",
        "    sorted_dict = dict(sorted(input_dict.items(), key=lambda item: item[1], reverse=not ascending))\n",
        "\n",
        "    return sorted_dict\n",
        "\n",
        "# Example dictionary\n",
        "example_dict = {\n",
        "    'apple': 50,\n",
        "    'banana': 20,\n",
        "    'cherry': 75,\n",
        "    'date': 10\n",
        "}\n",
        "\n",
        "# Sort in ascending order\n",
        "ascending_sorted_dict = sort_dict_by_values(example_dict, ascending=True)\n",
        "print(\"Sorted in ascending order:\", ascending_sorted_dict)\n",
        "\n",
        "# Sort in descending order\n",
        "descending_sorted_dict = sort_dict_by_values(example_dict, ascending=False)\n",
        "print(\"Sorted in descending order:\", descending_sorted_dict)\n"
      ],
      "metadata": {
        "colab": {
          "base_uri": "https://localhost:8080/"
        },
        "id": "Dmv5pHu7-XUV",
        "outputId": "5cda4cc1-df15-4fb4-e52b-8e3ccf732007"
      },
      "execution_count": null,
      "outputs": [
        {
          "output_type": "stream",
          "name": "stdout",
          "text": [
            "Sorted in ascending order: {'date': 10, 'banana': 20, 'apple': 50, 'cherry': 75}\n",
            "Sorted in descending order: {'cherry': 75, 'apple': 50, 'banana': 20, 'date': 10}\n"
          ]
        }
      ]
    },
    {
      "cell_type": "code",
      "source": [
        "# QUESTION 35\n",
        "# Write a code that inverts a dictionary swapping keys and values. Ensure that the inverted dictionary correctly handles cases where multiple keys have the same value by storing the keys as a list in the inverted dictionary.\n",
        "\n",
        "# Function to invert a dictionary\n",
        "def invert_dictionary(input_dict):\n",
        "    inverted_dict = {}\n",
        "\n",
        "    for key, value in input_dict.items():\n",
        "        # If the value is already a key in the inverted dictionary, append the key to the list\n",
        "        if value in inverted_dict:\n",
        "            inverted_dict[value].append(key)\n",
        "        else:\n",
        "            # Otherwise, create a new list for that value\n",
        "            inverted_dict[value] = [key]\n",
        "\n",
        "    return inverted_dict\n",
        "\n",
        "# Example dictionary\n",
        "example_dict = {\n",
        "    'apple': 1,\n",
        "    'banana': 2,\n",
        "    'cherry': 1,\n",
        "    'date': 3,\n",
        "    'elderberry': 2\n",
        "}\n",
        "\n",
        "# Inverting the dictionary\n",
        "inverted_dict = invert_dictionary(example_dict)\n",
        "print(\"Inverted dictionary:\", inverted_dict)\n"
      ],
      "metadata": {
        "colab": {
          "base_uri": "https://localhost:8080/"
        },
        "id": "0a0tnxeo_FEE",
        "outputId": "ca8f84c8-1b11-4260-c8d8-a2faf2a0af00"
      },
      "execution_count": null,
      "outputs": [
        {
          "output_type": "stream",
          "name": "stdout",
          "text": [
            "Inverted dictionary: {1: ['apple', 'cherry'], 2: ['banana', 'elderberry'], 3: ['date']}\n"
          ]
        }
      ]
    },
    {
      "cell_type": "code",
      "source": [],
      "metadata": {
        "id": "XVt1nTHSEvq_"
      },
      "execution_count": null,
      "outputs": []
    }
  ]
}